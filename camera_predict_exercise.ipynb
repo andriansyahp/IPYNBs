{
  "nbformat": 4,
  "nbformat_minor": 0,
  "metadata": {
    "celltoolbar": "Edit Metadata",
    "colab": {
      "name": "camera_predict_exercise.ipynb",
      "provenance": []
    },
    "kernelspec": {
      "display_name": "Python 3",
      "language": "python",
      "name": "python3"
    },
    "language_info": {
      "codemirror_mode": {
        "name": "ipython",
        "version": 3
      },
      "file_extension": ".py",
      "mimetype": "text/x-python",
      "name": "python",
      "nbconvert_exporter": "python",
      "pygments_lexer": "ipython3",
      "version": "3.8.2"
    }
  },
  "cells": [
    {
      "cell_type": "code",
      "metadata": {
        "id": "A2_-w9oxjsH7"
      },
      "source": [
        "# Untuk 'menyembunyikan' warning\n",
        "import warnings\n",
        "warnings.filterwarnings('always')\n",
        "warnings.filterwarnings('ignore')\n",
        "\n",
        "from matplotlib import pyplot as plt\n",
        "import numpy as np\n",
        "import pandas as pd\n",
        "import seaborn as sns"
      ],
      "execution_count": null,
      "outputs": []
    },
    {
      "cell_type": "markdown",
      "metadata": {
        "id": "qfZANlUtd072"
      },
      "source": [
        "Menyimpan dataset di Github dan mengakses dataset dari link raw data di Github tersebut."
      ]
    },
    {
      "cell_type": "code",
      "metadata": {
        "id": "LDLV_C8DjsH_"
      },
      "source": [
        "url = 'https://raw.githubusercontent.com/andriansyahp/DatasetStaterPR3/master/camera_dataset.csv'\n",
        "df = pd.read_csv(url)"
      ],
      "execution_count": null,
      "outputs": []
    },
    {
      "cell_type": "markdown",
      "metadata": {
        "deleteable": false,
        "editable": false,
        "id": "HXUZMnHsjsID"
      },
      "source": [
        "### Analisis dan Kesimpulan\n",
        "\n",
        "Berikanlah analisis dari hasil pekerjaan Anda dan berilah kesimpulan. Analisis dapat berupa evaluasi, hasil pengolahan, atau lainnya. Konten pada bagian kesimpulan minimal mengandung ringkasan analisis & apa sajakah yang telah Anda pelajari dalam mengerjakan soal ini"
      ]
    },
    {
      "cell_type": "markdown",
      "metadata": {
        "id": "0ZKNEWVeHi2m"
      },
      "source": [
        "Melihat contoh data yang ada dalam dataset."
      ]
    },
    {
      "cell_type": "code",
      "metadata": {
        "id": "OKFP_VXNlcLP",
        "outputId": "fedf25a7-eccf-4937-c367-2919558e0b1b",
        "colab": {
          "base_uri": "https://localhost:8080/",
          "height": 357
        }
      },
      "source": [
        "# Mengambil 5 row secara acak\n",
        "df.sample(5, random_state=1)"
      ],
      "execution_count": null,
      "outputs": [
        {
          "output_type": "execute_result",
          "data": {
            "text/html": [
              "<div>\n",
              "<style scoped>\n",
              "    .dataframe tbody tr th:only-of-type {\n",
              "        vertical-align: middle;\n",
              "    }\n",
              "\n",
              "    .dataframe tbody tr th {\n",
              "        vertical-align: top;\n",
              "    }\n",
              "\n",
              "    .dataframe thead th {\n",
              "        text-align: right;\n",
              "    }\n",
              "</style>\n",
              "<table border=\"1\" class=\"dataframe\">\n",
              "  <thead>\n",
              "    <tr style=\"text-align: right;\">\n",
              "      <th></th>\n",
              "      <th>Model</th>\n",
              "      <th>Release date</th>\n",
              "      <th>Max resolution</th>\n",
              "      <th>Low resolution</th>\n",
              "      <th>Effective pixels</th>\n",
              "      <th>Zoom wide (W)</th>\n",
              "      <th>Zoom tele (T)</th>\n",
              "      <th>Normal focus range</th>\n",
              "      <th>Macro focus range</th>\n",
              "      <th>Storage included</th>\n",
              "      <th>Weight (inc. batteries)</th>\n",
              "      <th>Dimensions</th>\n",
              "      <th>Price</th>\n",
              "    </tr>\n",
              "  </thead>\n",
              "  <tbody>\n",
              "    <tr>\n",
              "      <th>589</th>\n",
              "      <td>Olympus C-5060 Zoom</td>\n",
              "      <td>2003</td>\n",
              "      <td>2592.0</td>\n",
              "      <td>2288.0</td>\n",
              "      <td>5.0</td>\n",
              "      <td>27.0</td>\n",
              "      <td>110.0</td>\n",
              "      <td>80.0</td>\n",
              "      <td>3.0</td>\n",
              "      <td>32.0</td>\n",
              "      <td>480.0</td>\n",
              "      <td>116.0</td>\n",
              "      <td>449.0</td>\n",
              "    </tr>\n",
              "    <tr>\n",
              "      <th>718</th>\n",
              "      <td>Panasonic Lumix DMC-L1</td>\n",
              "      <td>2006</td>\n",
              "      <td>3136.0</td>\n",
              "      <td>2560.0</td>\n",
              "      <td>7.0</td>\n",
              "      <td>0.0</td>\n",
              "      <td>0.0</td>\n",
              "      <td>0.0</td>\n",
              "      <td>0.0</td>\n",
              "      <td>0.0</td>\n",
              "      <td>606.0</td>\n",
              "      <td>146.0</td>\n",
              "      <td>1499.0</td>\n",
              "    </tr>\n",
              "    <tr>\n",
              "      <th>677</th>\n",
              "      <td>Olympus Stylus 740</td>\n",
              "      <td>2006</td>\n",
              "      <td>3072.0</td>\n",
              "      <td>2560.0</td>\n",
              "      <td>7.0</td>\n",
              "      <td>36.0</td>\n",
              "      <td>180.0</td>\n",
              "      <td>70.0</td>\n",
              "      <td>3.0</td>\n",
              "      <td>17.0</td>\n",
              "      <td>160.0</td>\n",
              "      <td>96.0</td>\n",
              "      <td>229.0</td>\n",
              "    </tr>\n",
              "    <tr>\n",
              "      <th>957</th>\n",
              "      <td>Sony DSC-P93</td>\n",
              "      <td>2004</td>\n",
              "      <td>2592.0</td>\n",
              "      <td>2048.0</td>\n",
              "      <td>5.0</td>\n",
              "      <td>38.0</td>\n",
              "      <td>114.0</td>\n",
              "      <td>50.0</td>\n",
              "      <td>10.0</td>\n",
              "      <td>32.0</td>\n",
              "      <td>236.0</td>\n",
              "      <td>117.0</td>\n",
              "      <td>429.0</td>\n",
              "    </tr>\n",
              "    <tr>\n",
              "      <th>314</th>\n",
              "      <td>HP Photosmart C215</td>\n",
              "      <td>2000</td>\n",
              "      <td>1280.0</td>\n",
              "      <td>640.0</td>\n",
              "      <td>1.0</td>\n",
              "      <td>43.0</td>\n",
              "      <td>43.0</td>\n",
              "      <td>60.0</td>\n",
              "      <td>10.0</td>\n",
              "      <td>4.0</td>\n",
              "      <td>290.0</td>\n",
              "      <td>124.0</td>\n",
              "      <td>179.0</td>\n",
              "    </tr>\n",
              "  </tbody>\n",
              "</table>\n",
              "</div>"
            ],
            "text/plain": [
              "                      Model  Release date  ...  Dimensions   Price\n",
              "589     Olympus C-5060 Zoom          2003  ...       116.0   449.0\n",
              "718  Panasonic Lumix DMC-L1          2006  ...       146.0  1499.0\n",
              "677      Olympus Stylus 740          2006  ...        96.0   229.0\n",
              "957            Sony DSC-P93          2004  ...       117.0   429.0\n",
              "314      HP Photosmart C215          2000  ...       124.0   179.0\n",
              "\n",
              "[5 rows x 13 columns]"
            ]
          },
          "metadata": {
            "tags": []
          },
          "execution_count": 43
        }
      ]
    },
    {
      "cell_type": "markdown",
      "metadata": {
        "id": "Xmohs1JzHmUA"
      },
      "source": [
        "Melihat informasi tentang dataset terkait jumlah kolom, jumlah baris, tipe data tiap kolom, dan lainnya."
      ]
    },
    {
      "cell_type": "code",
      "metadata": {
        "id": "AU1_NUNIoQGG",
        "outputId": "d9eaad41-71d8-4442-85d2-384bc5c356f8",
        "colab": {
          "base_uri": "https://localhost:8080/",
          "height": 357
        }
      },
      "source": [
        "df.info()"
      ],
      "execution_count": null,
      "outputs": [
        {
          "output_type": "stream",
          "text": [
            "<class 'pandas.core.frame.DataFrame'>\n",
            "RangeIndex: 1038 entries, 0 to 1037\n",
            "Data columns (total 13 columns):\n",
            " #   Column                   Non-Null Count  Dtype  \n",
            "---  ------                   --------------  -----  \n",
            " 0   Model                    1038 non-null   object \n",
            " 1   Release date             1038 non-null   int64  \n",
            " 2   Max resolution           1038 non-null   float64\n",
            " 3   Low resolution           1038 non-null   float64\n",
            " 4   Effective pixels         1038 non-null   float64\n",
            " 5   Zoom wide (W)            1038 non-null   float64\n",
            " 6   Zoom tele (T)            1038 non-null   float64\n",
            " 7   Normal focus range       1038 non-null   float64\n",
            " 8   Macro focus range        1037 non-null   float64\n",
            " 9   Storage included         1036 non-null   float64\n",
            " 10  Weight (inc. batteries)  1036 non-null   float64\n",
            " 11  Dimensions               1036 non-null   float64\n",
            " 12  Price                    1038 non-null   float64\n",
            "dtypes: float64(11), int64(1), object(1)\n",
            "memory usage: 105.5+ KB\n"
          ],
          "name": "stdout"
        }
      ]
    },
    {
      "cell_type": "markdown",
      "metadata": {
        "id": "V2AdVueqHo3k"
      },
      "source": [
        "Melihat statistik deskriptif sederhana dari tiap kolom yang berisi jumlah, rerata, standar deviasi, nilai minimum dan maksimum, median serta kuartil."
      ]
    },
    {
      "cell_type": "code",
      "metadata": {
        "id": "Gjrh76z4nU9h",
        "outputId": "75c5b81c-35e8-4641-bae2-c094a519d990",
        "colab": {
          "base_uri": "https://localhost:8080/",
          "height": 351
        }
      },
      "source": [
        "df.describe()"
      ],
      "execution_count": null,
      "outputs": [
        {
          "output_type": "execute_result",
          "data": {
            "text/html": [
              "<div>\n",
              "<style scoped>\n",
              "    .dataframe tbody tr th:only-of-type {\n",
              "        vertical-align: middle;\n",
              "    }\n",
              "\n",
              "    .dataframe tbody tr th {\n",
              "        vertical-align: top;\n",
              "    }\n",
              "\n",
              "    .dataframe thead th {\n",
              "        text-align: right;\n",
              "    }\n",
              "</style>\n",
              "<table border=\"1\" class=\"dataframe\">\n",
              "  <thead>\n",
              "    <tr style=\"text-align: right;\">\n",
              "      <th></th>\n",
              "      <th>Release date</th>\n",
              "      <th>Max resolution</th>\n",
              "      <th>Low resolution</th>\n",
              "      <th>Effective pixels</th>\n",
              "      <th>Zoom wide (W)</th>\n",
              "      <th>Zoom tele (T)</th>\n",
              "      <th>Normal focus range</th>\n",
              "      <th>Macro focus range</th>\n",
              "      <th>Storage included</th>\n",
              "      <th>Weight (inc. batteries)</th>\n",
              "      <th>Dimensions</th>\n",
              "      <th>Price</th>\n",
              "    </tr>\n",
              "  </thead>\n",
              "  <tbody>\n",
              "    <tr>\n",
              "      <th>count</th>\n",
              "      <td>1038.000000</td>\n",
              "      <td>1038.000000</td>\n",
              "      <td>1038.000000</td>\n",
              "      <td>1038.000000</td>\n",
              "      <td>1038.000000</td>\n",
              "      <td>1038.000000</td>\n",
              "      <td>1038.000000</td>\n",
              "      <td>1037.000000</td>\n",
              "      <td>1036.000000</td>\n",
              "      <td>1036.000000</td>\n",
              "      <td>1036.000000</td>\n",
              "      <td>1038.000000</td>\n",
              "    </tr>\n",
              "    <tr>\n",
              "      <th>mean</th>\n",
              "      <td>2003.590559</td>\n",
              "      <td>2474.672447</td>\n",
              "      <td>1773.936416</td>\n",
              "      <td>4.596339</td>\n",
              "      <td>32.963391</td>\n",
              "      <td>121.525048</td>\n",
              "      <td>44.145472</td>\n",
              "      <td>7.787850</td>\n",
              "      <td>17.447876</td>\n",
              "      <td>319.265444</td>\n",
              "      <td>105.363417</td>\n",
              "      <td>457.384393</td>\n",
              "    </tr>\n",
              "    <tr>\n",
              "      <th>std</th>\n",
              "      <td>2.724755</td>\n",
              "      <td>759.513608</td>\n",
              "      <td>830.897955</td>\n",
              "      <td>2.844044</td>\n",
              "      <td>10.333149</td>\n",
              "      <td>93.455422</td>\n",
              "      <td>24.141959</td>\n",
              "      <td>8.100081</td>\n",
              "      <td>27.440655</td>\n",
              "      <td>260.410137</td>\n",
              "      <td>24.262761</td>\n",
              "      <td>760.452918</td>\n",
              "    </tr>\n",
              "    <tr>\n",
              "      <th>min</th>\n",
              "      <td>1994.000000</td>\n",
              "      <td>0.000000</td>\n",
              "      <td>0.000000</td>\n",
              "      <td>0.000000</td>\n",
              "      <td>0.000000</td>\n",
              "      <td>0.000000</td>\n",
              "      <td>0.000000</td>\n",
              "      <td>0.000000</td>\n",
              "      <td>0.000000</td>\n",
              "      <td>0.000000</td>\n",
              "      <td>0.000000</td>\n",
              "      <td>14.000000</td>\n",
              "    </tr>\n",
              "    <tr>\n",
              "      <th>25%</th>\n",
              "      <td>2002.000000</td>\n",
              "      <td>2048.000000</td>\n",
              "      <td>1120.000000</td>\n",
              "      <td>3.000000</td>\n",
              "      <td>35.000000</td>\n",
              "      <td>96.000000</td>\n",
              "      <td>30.000000</td>\n",
              "      <td>3.000000</td>\n",
              "      <td>8.000000</td>\n",
              "      <td>180.000000</td>\n",
              "      <td>92.000000</td>\n",
              "      <td>149.000000</td>\n",
              "    </tr>\n",
              "    <tr>\n",
              "      <th>50%</th>\n",
              "      <td>2004.000000</td>\n",
              "      <td>2560.000000</td>\n",
              "      <td>2048.000000</td>\n",
              "      <td>4.000000</td>\n",
              "      <td>36.000000</td>\n",
              "      <td>108.000000</td>\n",
              "      <td>50.000000</td>\n",
              "      <td>6.000000</td>\n",
              "      <td>16.000000</td>\n",
              "      <td>226.000000</td>\n",
              "      <td>101.000000</td>\n",
              "      <td>199.000000</td>\n",
              "    </tr>\n",
              "    <tr>\n",
              "      <th>75%</th>\n",
              "      <td>2006.000000</td>\n",
              "      <td>3072.000000</td>\n",
              "      <td>2560.000000</td>\n",
              "      <td>7.000000</td>\n",
              "      <td>38.000000</td>\n",
              "      <td>117.000000</td>\n",
              "      <td>60.000000</td>\n",
              "      <td>10.000000</td>\n",
              "      <td>20.000000</td>\n",
              "      <td>350.000000</td>\n",
              "      <td>115.000000</td>\n",
              "      <td>399.000000</td>\n",
              "    </tr>\n",
              "    <tr>\n",
              "      <th>max</th>\n",
              "      <td>2007.000000</td>\n",
              "      <td>5616.000000</td>\n",
              "      <td>4992.000000</td>\n",
              "      <td>21.000000</td>\n",
              "      <td>52.000000</td>\n",
              "      <td>518.000000</td>\n",
              "      <td>120.000000</td>\n",
              "      <td>85.000000</td>\n",
              "      <td>450.000000</td>\n",
              "      <td>1860.000000</td>\n",
              "      <td>240.000000</td>\n",
              "      <td>7999.000000</td>\n",
              "    </tr>\n",
              "  </tbody>\n",
              "</table>\n",
              "</div>"
            ],
            "text/plain": [
              "       Release date  Max resolution  ...   Dimensions        Price\n",
              "count   1038.000000     1038.000000  ...  1036.000000  1038.000000\n",
              "mean    2003.590559     2474.672447  ...   105.363417   457.384393\n",
              "std        2.724755      759.513608  ...    24.262761   760.452918\n",
              "min     1994.000000        0.000000  ...     0.000000    14.000000\n",
              "25%     2002.000000     2048.000000  ...    92.000000   149.000000\n",
              "50%     2004.000000     2560.000000  ...   101.000000   199.000000\n",
              "75%     2006.000000     3072.000000  ...   115.000000   399.000000\n",
              "max     2007.000000     5616.000000  ...   240.000000  7999.000000\n",
              "\n",
              "[8 rows x 12 columns]"
            ]
          },
          "metadata": {
            "tags": []
          },
          "execution_count": 45
        }
      ]
    },
    {
      "cell_type": "markdown",
      "metadata": {
        "id": "3RBK5UG7e0v7"
      },
      "source": [
        "Melihat jumlah data yang berupa NaN (not a number). Diketahui bahwa terdapat 7 data yang berupa NaN yang tersebar di kolom 'Macro focus range', 'Storage included', 'Weight (inc. batteries)' dan 'Dimensions'."
      ]
    },
    {
      "cell_type": "code",
      "metadata": {
        "id": "tndawcNjohyv",
        "outputId": "5ac0b2f9-49fd-4758-d882-e2fd096a117c",
        "colab": {
          "base_uri": "https://localhost:8080/",
          "height": 255
        }
      },
      "source": [
        "df.isnull().sum()"
      ],
      "execution_count": null,
      "outputs": [
        {
          "output_type": "execute_result",
          "data": {
            "text/plain": [
              "Model                      0\n",
              "Release date               0\n",
              "Max resolution             0\n",
              "Low resolution             0\n",
              "Effective pixels           0\n",
              "Zoom wide (W)              0\n",
              "Zoom tele (T)              0\n",
              "Normal focus range         0\n",
              "Macro focus range          1\n",
              "Storage included           2\n",
              "Weight (inc. batteries)    2\n",
              "Dimensions                 2\n",
              "Price                      0\n",
              "dtype: int64"
            ]
          },
          "metadata": {
            "tags": []
          },
          "execution_count": 46
        }
      ]
    },
    {
      "cell_type": "markdown",
      "metadata": {
        "id": "ga4nfT7kHsrj"
      },
      "source": [
        "Mengetahui jumlah nilai unique di tiap kolom. Diketahui bahwa 'Model' dapat dianggap sebagai identifier dari data tiap row."
      ]
    },
    {
      "cell_type": "code",
      "metadata": {
        "id": "ElgIau2dpjj_",
        "outputId": "802c363b-39b5-48f5-fbb5-316e21878e42",
        "colab": {
          "base_uri": "https://localhost:8080/",
          "height": 255
        }
      },
      "source": [
        "df.nunique()"
      ],
      "execution_count": null,
      "outputs": [
        {
          "output_type": "execute_result",
          "data": {
            "text/plain": [
              "Model                      1038\n",
              "Release date                 14\n",
              "Max resolution               99\n",
              "Low resolution               70\n",
              "Effective pixels             16\n",
              "Zoom wide (W)                25\n",
              "Zoom tele (T)               100\n",
              "Normal focus range           32\n",
              "Macro focus range            29\n",
              "Storage included             44\n",
              "Weight (inc. batteries)     237\n",
              "Dimensions                  101\n",
              "Price                        43\n",
              "dtype: int64"
            ]
          },
          "metadata": {
            "tags": []
          },
          "execution_count": 47
        }
      ]
    },
    {
      "cell_type": "markdown",
      "metadata": {
        "id": "ZI0aB2tTfznc"
      },
      "source": [
        "Melihat row-row yang mengandung data NaN. Diketahui bahwa 7 nilai NaN yang diketahui sebelumnya ternyata berada di 2 row, yaitu row 345 dan 346."
      ]
    },
    {
      "cell_type": "code",
      "metadata": {
        "id": "MpIoZS_zuhMM",
        "outputId": "98234608-7f88-41d9-ee68-08778fad8968",
        "colab": {
          "base_uri": "https://localhost:8080/",
          "height": 213
        }
      },
      "source": [
        "df[df.isnull().any(axis=1)]"
      ],
      "execution_count": null,
      "outputs": [
        {
          "output_type": "execute_result",
          "data": {
            "text/html": [
              "<div>\n",
              "<style scoped>\n",
              "    .dataframe tbody tr th:only-of-type {\n",
              "        vertical-align: middle;\n",
              "    }\n",
              "\n",
              "    .dataframe tbody tr th {\n",
              "        vertical-align: top;\n",
              "    }\n",
              "\n",
              "    .dataframe thead th {\n",
              "        text-align: right;\n",
              "    }\n",
              "</style>\n",
              "<table border=\"1\" class=\"dataframe\">\n",
              "  <thead>\n",
              "    <tr style=\"text-align: right;\">\n",
              "      <th></th>\n",
              "      <th>Model</th>\n",
              "      <th>Release date</th>\n",
              "      <th>Max resolution</th>\n",
              "      <th>Low resolution</th>\n",
              "      <th>Effective pixels</th>\n",
              "      <th>Zoom wide (W)</th>\n",
              "      <th>Zoom tele (T)</th>\n",
              "      <th>Normal focus range</th>\n",
              "      <th>Macro focus range</th>\n",
              "      <th>Storage included</th>\n",
              "      <th>Weight (inc. batteries)</th>\n",
              "      <th>Dimensions</th>\n",
              "      <th>Price</th>\n",
              "    </tr>\n",
              "  </thead>\n",
              "  <tbody>\n",
              "    <tr>\n",
              "      <th>345</th>\n",
              "      <td>HP Photosmart R927</td>\n",
              "      <td>2006</td>\n",
              "      <td>3296.0</td>\n",
              "      <td>2592.0</td>\n",
              "      <td>8.0</td>\n",
              "      <td>35.0</td>\n",
              "      <td>105.0</td>\n",
              "      <td>50.0</td>\n",
              "      <td>10.0</td>\n",
              "      <td>NaN</td>\n",
              "      <td>NaN</td>\n",
              "      <td>NaN</td>\n",
              "      <td>179.0</td>\n",
              "    </tr>\n",
              "    <tr>\n",
              "      <th>346</th>\n",
              "      <td>HP Photosmart R937</td>\n",
              "      <td>2007</td>\n",
              "      <td>3298.0</td>\n",
              "      <td>0.0</td>\n",
              "      <td>8.0</td>\n",
              "      <td>39.0</td>\n",
              "      <td>118.0</td>\n",
              "      <td>50.0</td>\n",
              "      <td>NaN</td>\n",
              "      <td>NaN</td>\n",
              "      <td>NaN</td>\n",
              "      <td>NaN</td>\n",
              "      <td>179.0</td>\n",
              "    </tr>\n",
              "  </tbody>\n",
              "</table>\n",
              "</div>"
            ],
            "text/plain": [
              "                  Model  Release date  ...  Dimensions  Price\n",
              "345  HP Photosmart R927          2006  ...         NaN  179.0\n",
              "346  HP Photosmart R937          2007  ...         NaN  179.0\n",
              "\n",
              "[2 rows x 13 columns]"
            ]
          },
          "metadata": {
            "tags": []
          },
          "execution_count": 48
        }
      ]
    },
    {
      "cell_type": "markdown",
      "metadata": {
        "id": "TJNSdJ15f_CM"
      },
      "source": [
        "Visualisasi keempat kolom yang mengandung nilai NaN dalam bentuk boxplot. Diketahui bahwa 'Weight' memiliki banyak outlier."
      ]
    },
    {
      "cell_type": "code",
      "metadata": {
        "id": "EohJAPisb4FC",
        "outputId": "d16b14fe-b9f7-4f38-d441-055aee7258dd",
        "colab": {
          "base_uri": "https://localhost:8080/",
          "height": 607
        }
      },
      "source": [
        "fig=plt.gcf()\n",
        "fig.set_size_inches(20,10)\n",
        "sns.boxplot(data = df[['Macro focus range','Storage included', 'Weight (inc. batteries)', 'Dimensions']])"
      ],
      "execution_count": null,
      "outputs": [
        {
          "output_type": "execute_result",
          "data": {
            "text/plain": [
              "<matplotlib.axes._subplots.AxesSubplot at 0x7f826d9dd7b8>"
            ]
          },
          "metadata": {
            "tags": []
          },
          "execution_count": 49
        },
        {
          "output_type": "display_data",
          "data": {
            "image/png": "[encoded data removed]",
            "text/plain": [
              "<Figure size 1440x720 with 1 Axes>"
            ]
          },
          "metadata": {
            "tags": [],
            "needs_background": "light"
          }
        }
      ]
    },
    {
      "cell_type": "markdown",
      "metadata": {
        "id": "EG68jqWpgL-K"
      },
      "source": [
        "Karena hanya ada dua row yang mengandung nilai NaN, awalnya saya ingin melakukan drop terhadap dua row tersebut. Namun untuk kepentingan belajar dan mempertahankan nilai-nilai lainnya yang tidak NaN di row tersebut akhirnya saya memilih melakukan filling. Untuk 'Macro focus range' dan 'Storage included' di-fill berdasarkan modus, 'Dimensions' dengan mean sedangkan 'Weight (inc. batteries)' menggunakan median."
      ]
    },
    {
      "cell_type": "code",
      "metadata": {
        "id": "DPI68-GkvsEr"
      },
      "source": [
        "df['Macro focus range'].fillna(df['Macro focus range'].mode()[0], inplace=True)\n",
        "df['Storage included'].fillna(df['Storage included'].mode()[0], inplace=True)\n",
        "df['Weight (inc. batteries)'].fillna(df['Weight (inc. batteries)'].median(), inplace=True)\n",
        "df['Dimensions'].fillna(df['Dimensions'].mean(), inplace=True)"
      ],
      "execution_count": null,
      "outputs": []
    },
    {
      "cell_type": "markdown",
      "metadata": {
        "id": "79XGbMbSg2TJ"
      },
      "source": [
        "Melihat lagi jumlah data yang bernilai NaN. Setelah di-fill, sudah tidak ada data yang bernilai NaN."
      ]
    },
    {
      "cell_type": "code",
      "metadata": {
        "id": "nUfUiDT6KI1R",
        "outputId": "10791238-c7a1-494a-9dab-dd687769bc73",
        "colab": {
          "base_uri": "https://localhost:8080/",
          "height": 255
        }
      },
      "source": [
        "df.isnull().sum()"
      ],
      "execution_count": null,
      "outputs": [
        {
          "output_type": "execute_result",
          "data": {
            "text/plain": [
              "Model                      0\n",
              "Release date               0\n",
              "Max resolution             0\n",
              "Low resolution             0\n",
              "Effective pixels           0\n",
              "Zoom wide (W)              0\n",
              "Zoom tele (T)              0\n",
              "Normal focus range         0\n",
              "Macro focus range          0\n",
              "Storage included           0\n",
              "Weight (inc. batteries)    0\n",
              "Dimensions                 0\n",
              "Price                      0\n",
              "dtype: int64"
            ]
          },
          "metadata": {
            "tags": []
          },
          "execution_count": 51
        }
      ]
    },
    {
      "cell_type": "markdown",
      "metadata": {
        "id": "epbu2OPdhA_p"
      },
      "source": [
        "Melihat visualisasi korelasi antar fitur melalui heatmap dari seaborn. Korelasi digunakan dalam standar penentuan fitur mana yang ingin dijadikan independent variable. Dependent variable yang dipilih adalah 'Price'. Berdasarkan heatmap, didapatkan 'Zoom Wide (W)' dengan nilai korelasi -0.46 dan 'Weight (inc. batteries)' dengan nilai korelasi 0.46 merupakan fitur dengan korelasi tertinggi terhadap 'Price'. Namun, berdasarkan rasionalisasi menurut saya lebih logis jika harga sebuah kamera ditentukan berdasarkan lensa zoom wide dibandingkan berdasarkan beratnya. Selain itu, korelasi 'Zoom Wide (W)' dengan fitur lainnya juga relatif lebih tinggi dibandingkan 'Weight (inc. batteries)'. Sehingga, dipilih 'Zoom Wide (W)' sebagai independent variable."
      ]
    },
    {
      "cell_type": "code",
      "metadata": {
        "id": "VtoEnJo9KUl6",
        "outputId": "f54c2acd-ece0-49d2-d8f3-d5c396842fe7",
        "colab": {
          "base_uri": "https://localhost:8080/",
          "height": 388
        }
      },
      "source": [
        "fig.set_size_inches(15, 7)\n",
        "sns.heatmap(data = df.corr(), annot=True, cbar=True)"
      ],
      "execution_count": null,
      "outputs": [
        {
          "output_type": "execute_result",
          "data": {
            "text/plain": [
              "<matplotlib.axes._subplots.AxesSubplot at 0x7f826d9724a8>"
            ]
          },
          "metadata": {
            "tags": []
          },
          "execution_count": 52
        },
        {
          "output_type": "display_data",
          "data": {
            "image/png": "[encoded data removed]",
            "text/plain": [
              "<Figure size 432x288 with 2 Axes>"
            ]
          },
          "metadata": {
            "tags": [],
            "needs_background": "light"
          }
        }
      ]
    },
    {
      "cell_type": "markdown",
      "metadata": {
        "id": "SeStm7htiTVA"
      },
      "source": [
        "Membuat dataframe baru untuk menampung independent dan dependent variable."
      ]
    },
    {
      "cell_type": "code",
      "metadata": {
        "id": "kAzEuz6_OU5R"
      },
      "source": [
        "compare_df = df[['Zoom wide (W)', 'Price']]"
      ],
      "execution_count": null,
      "outputs": []
    },
    {
      "cell_type": "markdown",
      "metadata": {
        "id": "hwb5_vdGiY-7"
      },
      "source": [
        "Melakukan scaling dengan MinMaxScaler dari scikit-learn."
      ]
    },
    {
      "cell_type": "code",
      "metadata": {
        "id": "ChATP_O7Cww3",
        "outputId": "e876d98a-51d2-49e6-bf1c-391940ce79bd",
        "colab": {
          "base_uri": "https://localhost:8080/",
          "height": 204
        }
      },
      "source": [
        "from sklearn.preprocessing import MinMaxScaler\n",
        "\n",
        "minmax = MinMaxScaler()\n",
        "transformed = minmax.fit_transform(compare_df)\n",
        "\n",
        "compare_df.iloc[:,:] = transformed\n",
        "compare_df.head()"
      ],
      "execution_count": null,
      "outputs": [
        {
          "output_type": "execute_result",
          "data": {
            "text/html": [
              "<div>\n",
              "<style scoped>\n",
              "    .dataframe tbody tr th:only-of-type {\n",
              "        vertical-align: middle;\n",
              "    }\n",
              "\n",
              "    .dataframe tbody tr th {\n",
              "        vertical-align: top;\n",
              "    }\n",
              "\n",
              "    .dataframe thead th {\n",
              "        text-align: right;\n",
              "    }\n",
              "</style>\n",
              "<table border=\"1\" class=\"dataframe\">\n",
              "  <thead>\n",
              "    <tr style=\"text-align: right;\">\n",
              "      <th></th>\n",
              "      <th>Zoom wide (W)</th>\n",
              "      <th>Price</th>\n",
              "    </tr>\n",
              "  </thead>\n",
              "  <tbody>\n",
              "    <tr>\n",
              "      <th>0</th>\n",
              "      <td>0.730769</td>\n",
              "      <td>0.020664</td>\n",
              "    </tr>\n",
              "    <tr>\n",
              "      <th>1</th>\n",
              "      <td>0.730769</td>\n",
              "      <td>0.020664</td>\n",
              "    </tr>\n",
              "    <tr>\n",
              "      <th>2</th>\n",
              "      <td>0.865385</td>\n",
              "      <td>0.020664</td>\n",
              "    </tr>\n",
              "    <tr>\n",
              "      <th>3</th>\n",
              "      <td>0.673077</td>\n",
              "      <td>0.031935</td>\n",
              "    </tr>\n",
              "    <tr>\n",
              "      <th>4</th>\n",
              "      <td>0.826923</td>\n",
              "      <td>0.160927</td>\n",
              "    </tr>\n",
              "  </tbody>\n",
              "</table>\n",
              "</div>"
            ],
            "text/plain": [
              "   Zoom wide (W)     Price\n",
              "0       0.730769  0.020664\n",
              "1       0.730769  0.020664\n",
              "2       0.865385  0.020664\n",
              "3       0.673077  0.031935\n",
              "4       0.826923  0.160927"
            ]
          },
          "metadata": {
            "tags": []
          },
          "execution_count": 54
        }
      ]
    },
    {
      "cell_type": "markdown",
      "metadata": {
        "id": "zIyPZdSNik2w"
      },
      "source": [
        "Menggunakan Cross Validation (CV) dengan K-fold yang di-split menjadi 5 bagian. CV dipilih dibandingkan train_test_split karena dirasa lebih menyeluruh sehingga dapat lebih reliable dibanding train_test_split.\n",
        "\n",
        "Selain itu, digunakan juga root mean square error (RMSE) sebagai metrics pengukuran error yang dihasilkan prediksi. Dari perhitungan didapatkan rerata RMSE dari 5-fold CV linear regression setelah dilakukan MinMaxScaling adalah sekitar ~ 0.08, yang mengindikasikan prediksi yang dihasilkan cukup akurat."
      ]
    },
    {
      "cell_type": "code",
      "metadata": {
        "id": "f4k-zAQFHAML",
        "outputId": "401198e1-979e-4cbf-ad45-a9d60787f4f3",
        "colab": {
          "base_uri": "https://localhost:8080/",
          "height": 119
        }
      },
      "source": [
        "from sklearn.model_selection import KFold\n",
        "from sklearn.metrics import mean_squared_error\n",
        "from sklearn.linear_model import LinearRegression\n",
        "\n",
        "X = compare_df[\"Zoom wide (W)\"].values\n",
        "X = X.reshape(-1,1)\n",
        "Y = compare_df[\"Price\"].values\n",
        "\n",
        "lr = LinearRegression()\n",
        "kf = KFold(shuffle = True,  n_splits=5)\n",
        "error = 0\n",
        "\n",
        "for train_index, test_index in kf.split(X):\n",
        "    X_train, X_valid = X[train_index], X[test_index]\n",
        "    y_train, y_valid = Y[train_index], Y[test_index]\n",
        "        \n",
        "    lr.fit(X_train, y_train)\n",
        "    \n",
        "    predicted = lr.predict(X_valid)\n",
        "\n",
        "    rmse = np.sqrt(mean_squared_error(y_valid, predicted))\n",
        "\n",
        "    print('RMSE:', np.sqrt(mean_squared_error(y_valid, predicted)))\n",
        "    error += np.sqrt(mean_squared_error(y_valid, predicted))\n",
        "\n",
        "print(\"Average RMSE:\", error/5)"
      ],
      "execution_count": null,
      "outputs": [
        {
          "output_type": "stream",
          "text": [
            "RMSE: 0.045705030165725344\n",
            "RMSE: 0.08233194866714778\n",
            "RMSE: 0.09293839014579343\n",
            "RMSE: 0.07525841084361162\n",
            "RMSE: 0.11602397914047076\n",
            "Average RMSE: 0.08245155179254979\n"
          ],
          "name": "stdout"
        }
      ]
    },
    {
      "cell_type": "markdown",
      "metadata": {
        "id": "U4e1r3d3jdqH"
      },
      "source": [
        "Visualisasi data beserta garis regresi hasil prediksi. Terlihat bahwa garis yang dihasilkan cukup representatif dan secara intuitif terlihat dapat membagi sesuai dengan distribusi data dalam scatter plot."
      ]
    },
    {
      "cell_type": "code",
      "metadata": {
        "id": "qoHZLjUkHdPI",
        "outputId": "67e33c62-6205-47d7-ec2c-0e85cf11fb84",
        "colab": {
          "base_uri": "https://localhost:8080/",
          "height": 295
        }
      },
      "source": [
        "plt.scatter(X, Y, color = \"blue\")\n",
        "plt.plot(X, lr.predict(X), color = \"red\")\n",
        "plt.title(\"Weight vs Price [minmax scaled]\")\n",
        "plt.xlabel(\"Weight\")\n",
        "plt.ylabel(\"Price\")\n",
        "plt.show()"
      ],
      "execution_count": null,
      "outputs": [
        {
          "output_type": "display_data",
          "data": {
            "image/png": "[encoded data removed]",
            "text/plain": [
              "<Figure size 432x288 with 1 Axes>"
            ]
          },
          "metadata": {
            "tags": [],
            "needs_background": "light"
          }
        }
      ]
    },
    {
      "cell_type": "markdown",
      "metadata": {
        "id": "BQT3U0nWjwak"
      },
      "source": [
        "**KESIMPULAN** <br/>\n",
        "Berdasarkan hasil percobaan di atas, diketahui bahwa 'Zoom Wide (W)' merupakan salah satu fitur yang cukup prediktif untuk melakukan prediksi terhadap fitur 'Price'. Hal ini dapat dilihat dari RMSE yang dihasilkan setelah dilakukan Cross Validation 5-fold terhadap data yang telah di-MinMaxScaling menghasilkan nilai sekitar 0.08. Selain itu, hasil garis regresi yang diprediksi berdasarkan fitting data terhadap linear regression model juga terlihat dapat menggambarkan data dengan baik berdasarkan distribusinya dalam scatter plot."
      ]
    }
  ]
}
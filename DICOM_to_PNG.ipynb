{
  "nbformat": 4,
  "nbformat_minor": 0,
  "metadata": {
    "colab": {
      "name": "DICOM-to-PNG.ipynb",
      "provenance": []
    },
    "kernelspec": {
      "name": "python3",
      "display_name": "Python 3"
    }
  },
  "cells": [
    {
      "cell_type": "code",
      "metadata": {
        "id": "DonWBWm_Fzjx",
        "outputId": "fc65b7e5-ee77-4d84-908d-e7ef8738875b",
        "colab": {
          "base_uri": "https://localhost:8080/",
          "height": 85
        }
      },
      "source": [
        "!pip3 install pydicom\n",
        "!pip3 install opencv-python\n",
        "!pip3 install pypng"
      ],
      "execution_count": null,
      "outputs": [
        {
          "output_type": "stream",
          "text": [
            "Requirement already satisfied: pydicom in /usr/local/lib/python3.6/dist-packages (2.0.0)\n",
            "Requirement already satisfied: opencv-python in /usr/local/lib/python3.6/dist-packages (4.1.2.30)\n",
            "Requirement already satisfied: numpy>=1.11.3 in /usr/local/lib/python3.6/dist-packages (from opencv-python) (1.18.5)\n",
            "Requirement already satisfied: pypng in /usr/local/lib/python3.6/dist-packages (0.0.20)\n"
          ],
          "name": "stdout"
        }
      ]
    },
    {
      "cell_type": "code",
      "metadata": {
        "id": "VuHLGwzSGSC1",
        "outputId": "d9e89e9c-5e83-491a-8a84-66f5897964f7",
        "colab": {
          "base_uri": "https://localhost:8080/",
          "height": 34
        }
      },
      "source": [
        "from google.colab import drive\n",
        "drive.mount(\"/content/drive\")"
      ],
      "execution_count": null,
      "outputs": [
        {
          "output_type": "stream",
          "text": [
            "Drive already mounted at /content/drive; to attempt to forcibly remount, call drive.mount(\"/content/drive\", force_remount=True).\n"
          ],
          "name": "stdout"
        }
      ]
    },
    {
      "cell_type": "code",
      "metadata": {
        "id": "E2DUcSEGGcOo"
      },
      "source": [
        "# Specify the DICOM folder path\n",
        "T1_folder_path = \"/content/drive/My Drive/Virtual Phantom Spine Stem Cell Introducer/Filtered Dataset/DICOM/T1\"\n",
        "T2_folder_path = \"/content/drive/My Drive/Virtual Phantom Spine Stem Cell Introducer/Filtered Dataset/DICOM/T2\"\n",
        "\n",
        "# Specify the output jpg/png folder path\n",
        "T1_img_folder_path = \"/content/drive/My Drive/Virtual Phantom Spine Stem Cell Introducer/Filtered Dataset/PNG/T1\"\n",
        "T2_img_folder_path = \"/content/drive/My Drive/Virtual Phantom Spine Stem Cell Introducer/Filtered Dataset/PNG/T2\""
      ],
      "execution_count": null,
      "outputs": []
    },
    {
      "cell_type": "code",
      "metadata": {
        "id": "AMM1uGsrJRBa"
      },
      "source": [
        "import numpy as np\n",
        "import png, os, pydicom\n",
        "\n",
        "def dicom2png(source_folder, output_folder):\n",
        "    list_of_files = os.listdir(source_folder)\n",
        "    for file in list_of_files:\n",
        "        try:\n",
        "            ds = pydicom.dcmread(os.path.join(source_folder,file))\n",
        "            shape = ds.pixel_array.shape\n",
        "\n",
        "            # Convert to float to avoid overflow or underflow losses.\n",
        "            image_2d = ds.pixel_array.astype(float)\n",
        "\n",
        "            # Rescaling grey scale between 0-255\n",
        "            image_2d_scaled = (np.maximum(image_2d,0) / image_2d.max()) * 255.0\n",
        "\n",
        "            # Convert to uint\n",
        "            image_2d_scaled = np.uint8(image_2d_scaled)\n",
        "\n",
        "            # Write the PNG file\n",
        "            with open(os.path.join(output_folder,file)+'.png' , 'wb') as png_file:\n",
        "                w = png.Writer(shape[1], shape[0], greyscale=True)\n",
        "                w.write(png_file, image_2d_scaled)\n",
        "        except:\n",
        "            print('Could not convert: ', file)"
      ],
      "execution_count": null,
      "outputs": []
    },
    {
      "cell_type": "code",
      "metadata": {
        "id": "FoMG4rTXYREI"
      },
      "source": [
        "# T1\n",
        "for f, folder in enumerate(os.listdir(T1_folder_path)):\n",
        "    dicom2png(os.path.join(T1_folder_path, folder), os.path.join(T1_img_folder_path, folder))"
      ],
      "execution_count": null,
      "outputs": []
    },
    {
      "cell_type": "code",
      "metadata": {
        "id": "ZFgtdz7kY5oN"
      },
      "source": [
        "# T2\n",
        "for f, folder in enumerate(os.listdir(T2_folder_path)):\n",
        "    dicom2png(os.path.join(T2_folder_path, folder), os.path.join(T2_img_folder_path, folder))"
      ],
      "execution_count": null,
      "outputs": []
    }
  ]
}